{
 "cells": [
  {
   "cell_type": "code",
   "execution_count": 9,
   "metadata": {},
   "outputs": [],
   "source": [
    "\n",
    "from google.cloud import bigquery\n",
    "from dotenv import load_dotenv\n",
    "import os\n",
    "import streamlit as st\n",
    "from google.cloud import bigquery\n",
    "from dotenv import load_dotenv\n",
    "import vertexai\n",
    "from vertexai.generative_models import GenerativeModel\n",
    "from google.cloud import discoveryengine_v1 as discoveryengine"
   ]
  },
  {
   "cell_type": "code",
   "execution_count": 10,
   "metadata": {},
   "outputs": [],
   "source": [
    "load_dotenv()  # Carga las variables desde .env al entorno\n",
    "client = bigquery.Client(project='dataton-2024-team-01-cofares')\n",
    "# Ahora puedes acceder a las variables de entorno\n",
    "project_id = os.getenv(\"GOOGLE_CLOUD_PROJECT\")"
   ]
  },
  {
   "cell_type": "code",
   "execution_count": 11,
   "metadata": {},
   "outputs": [],
   "source": [
    "# Configuración del cliente de Vertex AI\n",
    "PROJECT_ID = \"dataton-2024-team-01-cofares\"\n",
    "LOCATION = \"us-central1\"\n",
    "vertexai.init(project=PROJECT_ID, location=LOCATION)\n",
    "multimodal_model = GenerativeModel(\"gemini-1.5-flash-001\")\n",
    "\n",
    "# Inicializa el cliente de Discovery Engine\n",
    "discovery_client = discoveryengine.RankServiceClient()  "
   ]
  },
  {
   "cell_type": "code",
   "execution_count": 12,
   "metadata": {},
   "outputs": [],
   "source": [
    "\n",
    "def get_products(prompt):\n",
    "    client = bigquery.Client(project=project_id)\n",
    "    query = \"\"\"\n",
    "    WITH QueryEmbedding AS (\n",
    "      SELECT\n",
    "        ml_generate_embedding_result AS query_embedding\n",
    "      FROM\n",
    "        ML.GENERATE_EMBEDDING(\n",
    "          MODEL `dataton-2024-team-01-cofares.datos_cofares.text_embedding`,\n",
    "          (SELECT @prompt AS content),  -- Aquí usamos el parámetro\n",
    "          STRUCT(TRUE AS flatten_json_output, 'RETRIEVAL_QUERY' AS task_type)\n",
    "        )\n",
    "    )\n",
    "    SELECT\n",
    "      d.nombre_completo_material AS nombre,\n",
    "      d.txt_mas_informacion_del_producto AS descripcion,\n",
    "      d.txt_instrucciones_de_uso AS modo_implementacion,\n",
    "      d.codigo_web,\n",
    "      d.URI_primera_imagen,\n",
    "      d.codigo_nacional,\n",
    "      ML.DISTANCE(\n",
    "        qe.query_embedding,\n",
    "        e.ml_generate_embedding_result,\n",
    "        'COSINE'\n",
    "      ) AS distance_to_query\n",
    "    FROM\n",
    "      `dataton-2024-team-01-cofares.datos_cofares.data_final_temp` AS d\n",
    "    INNER JOIN\n",
    "      `dataton-2024-team-01-cofares.datos_cofares.SalidaEmbeddings_temp` AS e\n",
    "      ON d.codigo_web = e.title\n",
    "    INNER JOIN QueryEmbedding AS qe\n",
    "      ON TRUE\n",
    "    ORDER BY\n",
    "      distance_to_query\n",
    "    LIMIT 5;\n",
    "    \"\"\".format(prompt)\n",
    "    # Configura el parámetro para el prompt\n",
    "    job_config = bigquery.QueryJobConfig(\n",
    "        query_parameters=[\n",
    "            bigquery.ScalarQueryParameter(\"prompt\", \"STRING\", prompt)\n",
    "        ]\n",
    "    )\n",
    "\n",
    "    query_job = client.query(query, job_config=job_config)\n",
    "    results = query_job.result()\n",
    "    \n",
    "    products = []\n",
    "    for row in results:\n",
    "\n",
    "        descripcion = row.descripcion\n",
    "        if not row.descripcion:\n",
    "            descripcion = '-'\n",
    "        \n",
    "        modo_implementacion = row.modo_implementacion\n",
    "        if not row.modo_implementacion:\n",
    "            modo_implementacion = '-'\n",
    "\n",
    "\n",
    "        # Cambia la URL si es necesario\n",
    "        imagen_url = row.URI_primera_imagen \n",
    "        if imagen_url and imagen_url.startswith('gs:/'):\n",
    "            imagen_url = imagen_url.replace('gs://dataton-2024-team-01-cofares-datastore/imagenes/', 'https://storage.googleapis.com/dataton-2024-team-01-cofares-datastore/imagenes/reto_cofares/')\n",
    "        products.append({\n",
    "            \"codigo_web\": row.codigo_web,\n",
    "            \"nombre\": row.nombre,\n",
    "            \"codigo_nacional\": row.codigo_nacional,\n",
    "            \"descripcion\": descripcion,\n",
    "            \"modo_implementacion\": modo_implementacion,\n",
    "            \"imagen_url\": imagen_url,\n",
    "            \"distance_to_query\": row.distance_to_query\n",
    "        })\n",
    "    return products"
   ]
  },
  {
   "cell_type": "code",
   "execution_count": 13,
   "metadata": {},
   "outputs": [],
   "source": [
    "# Función para reranking de productos\n",
    "def rerank_products(prompt, products):\n",
    "    # Configura el nombre completo del recurso de configuración de ranking\n",
    "    ranking_config = discovery_client.ranking_config_path(\n",
    "        project=PROJECT_ID,\n",
    "        location=LOCATION,\n",
    "        ranking_config=\"default_ranking_config\",\n",
    "    )\n",
    "    \n",
    "    # Prepara los registros para el ranking\n",
    "    records = [\n",
    "        discoveryengine.RankingRecord(\n",
    "            id=str(index),\n",
    "            title=product[\"nombre\"],\n",
    "            content=product[\"descripcion\"] + \" \" + product[\"modo_implementacion\"]\n",
    "        )\n",
    "        for index, product in enumerate(products)\n",
    "    ]\n",
    "    \n",
    "    # Crea la solicitud de ranking\n",
    "    request = discoveryengine.RankRequest(\n",
    "        ranking_config=ranking_config,\n",
    "        model=\"semantic-ranker-512@latest\",\n",
    "        top_n=5,  # Ajusta según sea necesario\n",
    "        query=prompt,\n",
    "        records=records,\n",
    "    )\n",
    "    \n",
    "    # Envía la solicitud de ranking\n",
    "    response = discovery_client.rank(request=request)  # Cambiado para usar el cliente de discovery\n",
    "    \n",
    "    # Procesa la respuesta\n",
    "    ranked_products = []\n",
    "    for record in response.records:\n",
    "        ranked_products.append(products[int(record.id)])\n",
    "    \n",
    "    return ranked_products"
   ]
  },
  {
   "cell_type": "code",
   "execution_count": 6,
   "metadata": {},
   "outputs": [],
   "source": [
    "PROJECT_ID = \"dataton-2024-team-01-cofares\"  # @param {type:\"string\"}\n",
    "LOCATION = \"us-central1\"  # @param {type:\"string\"}\n",
    "\n",
    "# Importa el modelo de Gemini Flash 1.5\n",
    "import vertexai\n",
    "vertexai.init(project=PROJECT_ID, location=LOCATION)\n",
    "from vertexai.generative_models import GenerativeModel\n",
    "\n",
    "multimodal_model = GenerativeModel(\"gemini-1.5-flash-001\")"
   ]
  },
  {
   "cell_type": "code",
   "execution_count": 7,
   "metadata": {},
   "outputs": [],
   "source": [
    "# Función para generar una respuesta basada en el contexto\n",
    "def generate_response(prompt, products):\n",
    "    # Crear un contexto a partir de los productos obtenidos\n",
    "    context = \"Aquí están los productos encontrados:\\n\"\n",
    "    for product in products:\n",
    "        context += f\"- Nombre: {product['nombre']}, Descripción: {product['descripcion']}, Modo de implementación: {product['modo_implementacion']}\\n\"\n",
    "\n",
    "    # Formar el prompt para el modelo\n",
    "    prompt = f\"\"\"{context}\\nUsando la información relevante del contexto,\n",
    "    proporciona una respuesta a la consulta: {prompt}.\n",
    "    Si el contexto no proporciona \\\n",
    "    ninguna información relevante \\\n",
    "    responde con \\\n",
    "    [No he podido encontrar un buen resultado \\\n",
    "    para la consulta en la base de datos]\n",
    "    \"\"\"\n",
    "\n",
    "    # Generar la respuesta\n",
    "    response = multimodal_model.generate_content(prompt)\n",
    "\n",
    "    return response.text"
   ]
  },
  {
   "cell_type": "code",
   "execution_count": 18,
   "metadata": {},
   "outputs": [
    {
     "name": "stdout",
     "output_type": "stream",
     "text": [
      "Productos obtenidos:\n",
      "Nombre: Novadiet Colestia Evo, 30 Cápsulas, Descripción: -, Modo de implementación: -, Distancia: 0.31076668748346614\n",
      "Nombre: Novadiet Colestia Evo, 60 Cápsulas, Descripción: -, Modo de implementación: -, Distancia: 0.3125097921950818\n",
      "Nombre: INFUSION COL FITOSOL 20FIL, Descripción: INFUSIÓN COL FITOSOL. Contiene 20 bolsitas. Mezcla de plantas para infusión; espino blanco, fumaria y ortosifón., Modo de implementación: -, Distancia: 0.37046435883110995\n",
      "Nombre: LEVADURA ROJA DE ARROZ 2,9 MILIGRAMOS 30CAPSULAS, Descripción: -, Modo de implementación: -, Distancia: 0.3730689477538758\n",
      "Nombre: ERGY -3 180 PERLAS, Descripción: -, Modo de implementación: -, Distancia: 0.37333893338898916\n"
     ]
    }
   ],
   "source": [
    "# Ejemplo de uso\n",
    "prompt = \"producto para el colesterol\"\n",
    "products = get_products(prompt)  # Llamar a la función para obtener productos\n",
    "# Imprimir los productos obtenidos\n",
    "print(\"Productos obtenidos:\")\n",
    "for product in products:\n",
    "    print(f\"Nombre: {product['nombre']}, Descripción: {product['descripcion']}, Modo de implementación: {product['modo_implementacion']}, Distancia: {product['distance_to_query']}\")"
   ]
  },
  {
   "cell_type": "code",
   "execution_count": 19,
   "metadata": {},
   "outputs": [
    {
     "name": "stdout",
     "output_type": "stream",
     "text": [
      "Productos rankeados:\n",
      "Nombre: INFUSION COL FITOSOL 20FIL, Distancia: 0.37046435883110995\n",
      "Nombre: Novadiet Colestia Evo, 60 Cápsulas, Distancia: 0.3125097921950818\n",
      "Nombre: Novadiet Colestia Evo, 30 Cápsulas, Distancia: 0.31076668748346614\n",
      "Nombre: ERGY -3 180 PERLAS, Distancia: 0.37333893338898916\n",
      "Nombre: LEVADURA ROJA DE ARROZ 2,9 MILIGRAMOS 30CAPSULAS, Distancia: 0.3730689477538758\n"
     ]
    }
   ],
   "source": [
    "# Llamar a la función de reranking\n",
    "ranked_products = rerank_products(prompt, products)\n",
    "# Imprimir los productos rankeados\n",
    "print(\"Productos rankeados:\")\n",
    "for product in ranked_products:\n",
    "    print(f\"Nombre: {product['nombre']}, Distancia: {product['distance_to_query']}\")\n",
    "    "
   ]
  },
  {
   "cell_type": "code",
   "execution_count": 20,
   "metadata": {},
   "outputs": [
    {
     "name": "stdout",
     "output_type": "stream",
     "text": [
      "Aquí hay algunos productos que podrían ser relevantes para el colesterol:\n",
      "\n",
      "* **Novadiet Colestia Evo (30 Cápsulas y 60 Cápsulas):** El nombre \"Colestia\" sugiere que estos productos están diseñados para apoyar la salud del colesterol. \n",
      "* **INFUSIÓN COL FITOSOL 20FIL:** La descripción menciona que este producto es una mezcla de plantas para infusión, incluyendo espino blanco, fumaria y ortosifón. Algunas personas creen que estas hierbas pueden tener un impacto positivo en los niveles de colesterol.\n",
      "* **LEVADURA ROJA DE ARROZ 2,9 MILIGRAMOS 30CAPSULAS:** La levadura roja de arroz es un ingrediente que se ha asociado con la reducción del colesterol. \n",
      "\n",
      "Sin embargo, **es importante destacar que la información sobre la eficacia y seguridad de estos productos es limitada**. Es fundamental consultar con un profesional de la salud para obtener asesoramiento médico personalizado sobre el manejo del colesterol. \n",
      "\n"
     ]
    }
   ],
   "source": [
    "response_text = generate_response(prompt, products)  # Generar la respuesta\n",
    "print(response_text)"
   ]
  }
 ],
 "metadata": {
  "kernelspec": {
   "display_name": ".venv",
   "language": "python",
   "name": "python3"
  },
  "language_info": {
   "codemirror_mode": {
    "name": "ipython",
    "version": 3
   },
   "file_extension": ".py",
   "mimetype": "text/x-python",
   "name": "python",
   "nbconvert_exporter": "python",
   "pygments_lexer": "ipython3",
   "version": "3.11.6"
  }
 },
 "nbformat": 4,
 "nbformat_minor": 2
}
